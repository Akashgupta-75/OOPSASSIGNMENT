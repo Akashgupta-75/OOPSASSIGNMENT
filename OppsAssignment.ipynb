{
 "cells": [
  {
   "cell_type": "code",
   "execution_count": 3,
   "id": "d7482933-3f2b-4a95-809a-1d540636b350",
   "metadata": {},
   "outputs": [
    {
     "name": "stdout",
     "output_type": "stream",
     "text": [
      "Woof!\n",
      "Meow!\n"
     ]
    }
   ],
   "source": [
    "\"\"\" QUES 1: What is Object-Oriented Programming (OOP)?\n",
    "ANS: Object-Oriented Programming (OOP) is a programming paradigm based on the concept of \"objects\", which can contain data (in the form of fields,\n",
    "     often called attributes or properties) and code (in the form of methods).\n",
    "\n",
    "Key Concepts of OOP:\n",
    "Class: A blueprint for creating objects. It defines a datatype by bundling data and methods that operate on the data.\n",
    "\n",
    "Object: An instance of a class. It represents a specific \"thing\" with properties and behaviors defined by its class.\n",
    "\n",
    "Encapsulation: Bundling the data (attributes) and methods that operate on the data into a single unit or class, and restricting access to some of \n",
    "the object's components (usually by using private or protected access modifiers)\n",
    "\n",
    "Inheritance: A mechanism for creating a new class using the properties and methods of an existing class. It promotes code reuse.\n",
    "\n",
    "Polymorphism: The ability of different classes to respond to the same method call in different ways. This allows for interface consistency while \n",
    "supporting different behaviors.\n",
    "\n",
    "Abstraction: Hiding complex implementation details and showing only the essential features of the object. It simplifies the interface for the user. \n",
    "\"\"\"\n",
    "class Animal:\n",
    "    def __init__(self, name):\n",
    "        self.name = name\n",
    "\n",
    "    def speak(self):\n",
    "        return \"Some sound\"\n",
    "\n",
    "class Dog(Animal):\n",
    "    def speak(self):\n",
    "        return \"Woof!\"\n",
    "\n",
    "class Cat(Animal):\n",
    "    def speak(self):\n",
    "        return \"Meow!\"\n",
    "\n",
    "# Using the classes\n",
    "dog = Dog(\"Buddy\")\n",
    "cat = Cat(\"Whiskers\")\n",
    "\n",
    "print(dog.speak())\n",
    "print(cat.speak())"
   ]
  },
  {
   "cell_type": "code",
   "execution_count": 4,
   "id": "b16d2637-a74f-41ce-8f25-128965e4c53b",
   "metadata": {},
   "outputs": [
    {
     "name": "stdout",
     "output_type": "stream",
     "text": [
      "The red Toyota is driving.\n"
     ]
    }
   ],
   "source": [
    "\"\"\"\n",
    "QUES 2: What is a class in OOP?\n",
    "ANS: A class in Object-Oriented Programming (OOP) is a blueprint or template for creating objects. It defines the attributes (data) and methods (functions) that the objects created from the class will have.\n",
    "\n",
    "Key Components of a Class:\n",
    "Attributes: Variables that store the state or data of an object.\n",
    "\n",
    "Methods: Functions that define the behavior of an object.\n",
    "\"\"\"\n",
    "class Car:\n",
    "    # Constructor method\n",
    "    def __init__(self, brand, color):\n",
    "        self.brand = brand      # Attribute\n",
    "        self.color = color      # Attribute\n",
    "\n",
    "    # Method\n",
    "    def drive(self):\n",
    "        print(f\"The {self.color} {self.brand} is driving.\")\n",
    "\n",
    "my_car = Car(\"Toyota\", \"red\")\n",
    "my_car.drive()"
   ]
  },
  {
   "cell_type": "code",
   "execution_count": 5,
   "id": "990f36cc-7679-40c0-bf0e-4b0802798569",
   "metadata": {},
   "outputs": [
    {
     "name": "stdout",
     "output_type": "stream",
     "text": [
      "Buddy says woof!\n",
      "Max says woof!\n"
     ]
    }
   ],
   "source": [
    "\"\"\"\n",
    "QUES 3: What is an object in OOP?\n",
    "ANS: An object in Object-Oriented Programming (OOP) is an instance of a class. It is a self-contained unit that bundles together data (attributes) and\n",
    "behavior (methods) defined by its class.\n",
    "\n",
    "Key Characteristics of an Object:\n",
    "State – defined by the object's attributes (data members).\n",
    "\n",
    "Behavior – defined by the object's methods (functions).\n",
    "\n",
    "Identity – each object is distinct, even if it has the same attribute values as another object.\n",
    "\"\"\"\n",
    "class Dog:\n",
    "    def __init__(self, name, breed):\n",
    "        self.name = name\n",
    "        self.breed = breed\n",
    "\n",
    "    def bark(self):\n",
    "        print(f\"{self.name} says woof!\")\n",
    "\n",
    "# Creating objects (instances of the Dog class)\n",
    "dog1 = Dog(\"Buddy\", \"Golden Retriever\")\n",
    "dog2 = Dog(\"Max\", \"German Shepherd\")\n",
    "\n",
    "dog1.bark()\n",
    "dog2.bark()"
   ]
  },
  {
   "cell_type": "code",
   "execution_count": 6,
   "id": "394595e8-cb1e-4d27-90f5-ce79b734228e",
   "metadata": {},
   "outputs": [
    {
     "name": "stdout",
     "output_type": "stream",
     "text": [
      "Woof\n"
     ]
    }
   ],
   "source": [
    "\"\"\"\n",
    "QUES 4: What is the difference between abstraction and encapsulation?\n",
    "ANS: Abstraction and Encapsulation are two core concepts in Object-Oriented Programming (OOP), and while they are related, they serve different purposes.\n",
    "\n",
    "Abstraction: \"Hiding the what and why\"\n",
    "Definition: Abstraction is the process of hiding complex implementation details and showing only the essential features of an object.\n",
    "\n",
    "Goal: To reduce complexity and allow the programmer to focus on interactions at a higher level.\n",
    "\n",
    "Analogy: When you drive a car, you just use the steering wheel, pedals, and buttons—you don’t need to know how the engine or transmission works.\n",
    "\n",
    "Encapsulation: \"Hiding the how\"\n",
    "Definition: Encapsulation is the practice of bundling data and methods that operate on that data within a class, and restricting direct access to some of the object's components.\n",
    "\n",
    "Goal: To protect the internal state of an object and prevent unauthorized access or modification.\n",
    "\n",
    "Analogy: A vending machine encapsulates all internal mechanics. You can press buttons (public methods), but you can’t access the machinery inside \n",
    "(private data).\n",
    "\"\"\"\n",
    "from abc import ABC, abstractmethod                                              # Abstraction: \"Hiding the what and why\"\n",
    "\n",
    "class Animal(ABC):\n",
    "    @abstractmethod\n",
    "    def make_sound(self):\n",
    "        pass\n",
    "\n",
    "class Dog(Animal):\n",
    "    def make_sound(self):\n",
    "        return \"Woof\"\n",
    "\n",
    "dog = Dog()\n",
    "print(dog.make_sound())"
   ]
  },
  {
   "cell_type": "code",
   "execution_count": 7,
   "id": "be539454-1d47-4e5f-a636-9a1c14eae1c7",
   "metadata": {},
   "outputs": [
    {
     "name": "stdout",
     "output_type": "stream",
     "text": [
      "1500\n"
     ]
    }
   ],
   "source": [
    "class BankAccount:                                                               # Encapsulation: \"Hiding the how\"\n",
    "    def __init__(self, balance):\n",
    "        self.__balance = balance  # private variable\n",
    "\n",
    "    def deposit(self, amount):\n",
    "        if amount > 0:\n",
    "            self.__balance += amount\n",
    "\n",
    "    def get_balance(self):\n",
    "        return self.__balance\n",
    "\n",
    "account = BankAccount(1000)\n",
    "account.deposit(500)\n",
    "print(account.get_balance())"
   ]
  },
  {
   "cell_type": "code",
   "execution_count": 8,
   "id": "36518d11-746b-4c4f-9f38-63142d4da3ad",
   "metadata": {},
   "outputs": [
    {
     "name": "stdout",
     "output_type": "stream",
     "text": [
      "Book: Python Basics\n",
      "350\n"
     ]
    }
   ],
   "source": [
    "\"\"\"\n",
    "QUES 5: What are dunder methods in Python?\n",
    "ANS: Dunder methods in Python—short for \"double underscore\" methods—are special, built-in methods that have names starting and ending with double \n",
    "underscores, like init, str, len, etc. They are also called magic methods and are used to define how objects of a class behave with Python's built-in\n",
    "operations (like printing, adding, comparing, etc.).\n",
    "\n",
    "Why Use Dunder Methods?\n",
    "init → Constructor method for initializing objects.\n",
    "\n",
    "str → String representation when using print().\n",
    "\n",
    "add → Defines behavior for the + operator.\n",
    "\n",
    "Common Dunder Methods:\n",
    "init(self, ...) Constructor; initializes an object\n",
    "\n",
    "str(self) String representation (used by print)\n",
    "\n",
    "repr(self) Official string representation (used in debugging)\n",
    "\n",
    "len(self) Returns the length with len()\n",
    "\n",
    "eq(self, other) Defines equality (==)\n",
    "\n",
    "lt(self, other) Defines less than (<)\n",
    "add(self, other) Defines addition with +\n",
    "\n",
    "getitem(self, key) Access elements via indexing obj[key]\n",
    "\"\"\"\n",
    "\n",
    "class Book:\n",
    "    def __init__(self, title, pages):\n",
    "        self.title = title\n",
    "        self.pages = pages\n",
    "\n",
    "    def __str__(self):\n",
    "        return f\"Book: {self.title}\"\n",
    "\n",
    "    def __len__(self):\n",
    "        return self.pages\n",
    "\n",
    "book = Book(\"Python Basics\", 350)\n",
    "\n",
    "print(book)\n",
    "print(len(book))"
   ]
  },
  {
   "cell_type": "code",
   "execution_count": 9,
   "id": "ffdc7956-c023-4824-b7c1-5aecc4c244f7",
   "metadata": {},
   "outputs": [
    {
     "name": "stdout",
     "output_type": "stream",
     "text": [
      "Buddy says Woof!\n",
      "Whiskers says Meow!\n"
     ]
    }
   ],
   "source": [
    "\"\"\"\n",
    "QUES 6: Explain the concept of inheritance in OOP?\n",
    "ANS: Inheritance is a fundamental OOP concept that allows a class (called a child or subclass) to inherit properties and behaviors (attributes and methods)\n",
    "from another class (called a parent or superclass). This promotes code reuse, extensibility, and a hierarchical class structure.\n",
    "\n",
    "Types of Inheritance:\n",
    "Single - One child inherits from one parent\n",
    "\n",
    "Multiple - One child inherits from multiple parents\n",
    "\n",
    "Multilevel - A class inherits from a class that itself inherits from another\n",
    "\n",
    "Hierarchical - Multiple classes inherit from the same parent\n",
    "\n",
    "Hybrid - A mix of the above types\n",
    "\n",
    "Key Ideas:\n",
    "The child class can reuse, override, or extend the functionality of the parent class.\n",
    "\n",
    "Inheritance allows for \"is-a\" relationships. For example, a Dog is a type of Animal.\n",
    "\"\"\"\n",
    "class Animal:\n",
    "    def __init__(self, name):\n",
    "        self.name = name\n",
    "\n",
    "    def speak(self):\n",
    "        return \"Some generic sound\"\n",
    "\n",
    "class Dog(Animal):\n",
    "    def speak(self):\n",
    "        return f\"{self.name} says Woof!\"\n",
    "\n",
    "class Cat(Animal):\n",
    "    def speak(self):\n",
    "        return f\"{self.name} says Meow!\"\n",
    "\n",
    "dog = Dog(\"Buddy\")\n",
    "cat = Cat(\"Whiskers\")\n",
    "\n",
    "print(dog.speak())\n",
    "print(cat.speak())"
   ]
  },
  {
   "cell_type": "code",
   "execution_count": 10,
   "id": "dbfe27d7-eae9-4bbb-be27-b4cd0081c2ea",
   "metadata": {},
   "outputs": [
    {
     "name": "stdout",
     "output_type": "stream",
     "text": [
      "Woof!\n",
      "Meow!\n"
     ]
    }
   ],
   "source": [
    "\"\"\"\n",
    "QUES 7: What is polymorphism in OOP?\n",
    "ANS: Polymorphism means \"many forms\", and in OOP, it allows objects of different classes to be treated through the same interface, even if they behave \n",
    "differently. It enables you to call the same method on different types of objects and get different behaviors, depending on the object's class.\n",
    "\n",
    "Key Idea:\n",
    "Polymorphism lets you write code that works on objects of different classes, as long as they implement the same method interface.\n",
    "\n",
    "Types of Polymorphism:\n",
    "Compile-time (static) - Method overloading (not common in Python)\n",
    "\n",
    "Runtime (dynamic) - Method overriding in subclasses (common in Python)\n",
    "\"\"\"\n",
    "class Animal:\n",
    "    def speak(self):\n",
    "        return \"Some generic sound\"\n",
    "\n",
    "class Dog(Animal):\n",
    "    def speak(self):\n",
    "        return \"Woof!\"\n",
    "\n",
    "class Cat(Animal):\n",
    "    def speak(self):\n",
    "        return \"Meow!\"\n",
    "\n",
    "# Function that uses polymorphism\n",
    "def make_animal_speak(animal):\n",
    "    print(animal.speak())\n",
    "\n",
    "# Different behavior for different objects\n",
    "make_animal_speak(Dog())\n",
    "make_animal_speak(Cat())"
   ]
  },
  {
   "cell_type": "code",
   "execution_count": 11,
   "id": "d470e1bd-9f93-4147-8d14-1278dedc5049",
   "metadata": {},
   "outputs": [
    {
     "name": "stdout",
     "output_type": "stream",
     "text": [
      "Alice\n"
     ]
    }
   ],
   "source": [
    "\"\"\"\n",
    "QUES 8: How is encapsulation achieved in Python?\n",
    "ANS: Encapsulation is the OOP principle of restricting direct access to an object’s internal state (data) and exposing only what’s necessary through \n",
    "methods. It protects the object from unwanted interference and misuse.\n",
    "\n",
    "How Encapsulation is Achieved in Python:\n",
    "Python uses access modifiers (via naming conventions) and getter/setter methods to implement encapsulation.\n",
    "\n",
    "Public Members - Accessible from anywhere.\n",
    "\n",
    "Protected Members (convention: single underscore _) -\n",
    "\n",
    "Meant to be used only within the class or its subclasses.\n",
    "\n",
    "Not enforced by the interpreter, but signals \"internal use\".\n",
    "\n",
    "Private Members (double underscore __) -\n",
    "Name mangling makes them harder to access from outside.\n",
    "\n",
    "Enforces encapsulation more strictly.\n",
    "\"\"\"\n",
    "class Person:                                         # Public Members\n",
    "    def __init__(self, name):\n",
    "        self.name = name\n",
    "\n",
    "# Create an object of the class\n",
    "p = Person(\"Alice\")\n",
    "\n",
    "# Access the public attribute\n",
    "print(p.name)\n",
    "     "
   ]
  },
  {
   "cell_type": "code",
   "execution_count": 12,
   "id": "7c9184e5-926c-4e01-a9f2-23232b88d409",
   "metadata": {},
   "outputs": [
    {
     "name": "stdout",
     "output_type": "stream",
     "text": [
      "Alice\n",
      "30\n"
     ]
    }
   ],
   "source": [
    "class Person:                                         # Protected Members\n",
    "    def __init__(self, name, age):\n",
    "        self.name = name\n",
    "        self._age = age\n",
    "\n",
    "# Create an object\n",
    "p = Person(\"Alice\", 30)\n",
    "\n",
    "# Access attributes\n",
    "print(p.name)   # Public\n",
    "print(p._age)   # Protected (but still accessible)"
   ]
  },
  {
   "cell_type": "code",
   "execution_count": 13,
   "id": "19137673-c710-49d3-8b07-f6747bdf8398",
   "metadata": {},
   "outputs": [
    {
     "name": "stdout",
     "output_type": "stream",
     "text": [
      "1500\n"
     ]
    }
   ],
   "source": [
    "class BankAccount:                                    # Private Members\n",
    "    def __init__(self, balance):\n",
    "        self.__balance = balance\n",
    "    def deposit(self, amount):\n",
    "        if amount > 0:\n",
    "            self.__balance += amount\n",
    "\n",
    "    def get_balance(self):\n",
    "        return self.__balance\n",
    "\n",
    "account = BankAccount(1000)  # Initial balance 1000\n",
    "account.deposit(500)         # Deposit 500\n",
    "print(account.get_balance()) # Access balance via method"
   ]
  },
  {
   "cell_type": "code",
   "execution_count": 14,
   "id": "c22acef1-55e2-4ddd-ad0e-e505c73d5ad1",
   "metadata": {},
   "outputs": [
    {
     "name": "stdout",
     "output_type": "stream",
     "text": [
      "Alice\n",
      "30\n"
     ]
    }
   ],
   "source": [
    "\"\"\"\n",
    "QUES 9: What is a constructor in Python?\n",
    "ANS: A constructor in Python is a special method that is automatically called when a new object of a class is created. Its primary role is to initialize\n",
    "the object's attributes (i.e., set up its initial state).\n",
    "\n",
    "Python Constructor: init()\n",
    "The constructor method in Python is always named init.\n",
    "\n",
    "It runs immediately after the object is created using the class name.\n",
    "\n",
    "It typically takes self (the object being created) and other arguments to set initial values.\n",
    "\n",
    "How It Works?\n",
    "Person(\"Alice\", 30) creates an object of the class.\n",
    "\n",
    "Python automatically calls init() with \"Alice\" and 30.\n",
    "\n",
    "Inside init, the values are assigned to the object’s attributes.\\\n",
    "\"\"\"\n",
    "class Person:\n",
    "    def __init__(self, name, age):  # Constructor\n",
    "        self.name = name\n",
    "        self.age = age\n",
    "\n",
    "# Creating an object automatically calls the constructor\n",
    "p = Person(\"Alice\", 30)\n",
    "\n",
    "print(p.name)\n",
    "print(p.age)\n",
    "     "
   ]
  },
  {
   "cell_type": "code",
   "execution_count": 15,
   "id": "81312df5-8c3d-4c9e-981f-55c8bfb7f470",
   "metadata": {},
   "outputs": [],
   "source": [
    "\"\"\"\n",
    "QUES 10: What are class and static methods in Python?\n",
    "ANS: Both class methods and static methods are special types of methods in Python, used when you don’t need to work directly with instance attributes \n",
    "(self). They're defined using decorators: @classmethod and @staticmethod.\n",
    "\n",
    "Class Methods:\n",
    "Access the class itself using cls (not the instance).\n",
    "\n",
    "Can modify class-level data shared across all instances.\n",
    "\n",
    "Defined with the @classmethod decorator.\n",
    "\n",
    "Static Methods:\n",
    "Don’t access the class (cls) or instance (self).\n",
    "\n",
    "Are just regular functions grouped inside a class for logical structure.\n",
    "\n",
    "Defined with the @staticmethod decorator.\n",
    "\"\"\"\n",
    "class MyClass:                    # Class Methods - Syntax\n",
    "    count = 0\n",
    "\n",
    "    @classmethod\n",
    "    def increment_count(cls):\n",
    "        cls.count += 1"
   ]
  },
  {
   "cell_type": "code",
   "execution_count": 16,
   "id": "ffd0fc1f-30db-4a36-a72b-25a1bedfe7c6",
   "metadata": {},
   "outputs": [
    {
     "name": "stdout",
     "output_type": "stream",
     "text": [
      "2\n"
     ]
    }
   ],
   "source": [
    "class Book:\n",
    "    total_books = 0\n",
    "\n",
    "    def __init__(self):\n",
    "        Book.total_books += 1\n",
    "\n",
    "    @classmethod\n",
    "    def get_total_books(cls):\n",
    "        return cls.total_books\n",
    "\n",
    "b1 = Book()\n",
    "b2 = Book()\n",
    "print(Book.get_total_books())"
   ]
  },
  {
   "cell_type": "code",
   "execution_count": 17,
   "id": "ee724019-d6fa-4bf2-b50f-02513a815d72",
   "metadata": {},
   "outputs": [],
   "source": [
    "class Math:                       # Static Methods - Syntax\n",
    "    @staticmethod\n",
    "    def add(x, y):\n",
    "        return x + y"
   ]
  },
  {
   "cell_type": "code",
   "execution_count": 19,
   "id": "be38ed62-7305-4106-9cd6-ada7af88186f",
   "metadata": {},
   "outputs": [
    {
     "name": "stdout",
     "output_type": "stream",
     "text": [
      "12\n"
     ]
    }
   ],
   "source": [
    "class Math:\n",
    "    @staticmethod\n",
    "    def add(x, y):\n",
    "        return x + y\n",
    "\n",
    "print(Math.add(5, 7))"
   ]
  },
  {
   "cell_type": "code",
   "execution_count": 20,
   "id": "b7d7250f-07ba-45a3-b5b9-51975d2fbc25",
   "metadata": {},
   "outputs": [
    {
     "name": "stdout",
     "output_type": "stream",
     "text": [
      "Hello\n",
      "Hello Alice\n"
     ]
    }
   ],
   "source": [
    "\"\"\"\n",
    "QUES 11: What is method overloading in Python?\n",
    "ANS: Method overloading in Python refers to the ability to define multiple methods with the same name but different arguments (number or type) so that the appropriate method is called based on the arguments passed. However, Python does not support traditional method overloading like some other languages such as Java or C++. In Python, if you define multiple methods with the same name in a class, the last one will override the earlier ones.\n",
    "\n",
    "Simulating Method Overloading in Python:\n",
    "Since Python does not support method overloading natively, you can simulate it in the following ways:\n",
    "\n",
    "Using default arguments\n",
    "\n",
    "Using args and kwargs\n",
    "\n",
    "Using @singledispatch from functools (Python 3.4+)\n",
    "\"\"\"\n",
    "class Greet:                                       # Using default arguments\n",
    "    def hello(self, name=None):\n",
    "        if name is not None:\n",
    "            print(\"Hello \" + name)\n",
    "        else:\n",
    "            print(\"Hello\")\n",
    "\n",
    "g = Greet()\n",
    "g.hello()\n",
    "g.hello(\"Alice\")"
   ]
  },
  {
   "cell_type": "code",
   "execution_count": 21,
   "id": "5490de31-479d-40e8-8d24-f934cc8e79b4",
   "metadata": {},
   "outputs": [
    {
     "name": "stdout",
     "output_type": "stream",
     "text": [
      "6\n",
      "24\n"
     ]
    }
   ],
   "source": [
    "class Multiply:                                     # Using args and kwargs\n",
    "    def product(self, *args):\n",
    "        result = 1\n",
    "        for num in args:\n",
    "            result *= num\n",
    "        return result\n",
    "\n",
    "m = Multiply()\n",
    "print(m.product(2, 3))\n",
    "print(m.product(2, 3, 4))\n"
   ]
  },
  {
   "cell_type": "code",
   "execution_count": 22,
   "id": "852e94d0-7fb9-4363-8833-a2a1cccc2ac1",
   "metadata": {},
   "outputs": [
    {
     "name": "stdout",
     "output_type": "stream",
     "text": [
      "Processing integer: 10\n",
      "Processing string: hi\n"
     ]
    }
   ],
   "source": [
    "from functools import singledispatch                # Using @singledispatch from functools (Python 3.4+)\n",
    "\n",
    "@singledispatch\n",
    "def process(data):\n",
    "    print(\"Unsupported type\")\n",
    "\n",
    "@process.register\n",
    "def _(data: int):\n",
    "    print(\"Processing integer:\", data)\n",
    "\n",
    "@process.register\n",
    "def _(data: str):\n",
    "    print(\"Processing string:\", data)\n",
    "\n",
    "process(10)\n",
    "process(\"hi\")"
   ]
  },
  {
   "cell_type": "code",
   "execution_count": 23,
   "id": "87dc0807-f692-46c8-8408-aa6056f9b5c1",
   "metadata": {},
   "outputs": [
    {
     "name": "stdout",
     "output_type": "stream",
     "text": [
      "The dog barks\n",
      "The cat meows\n",
      "The animal makes a sound\n"
     ]
    }
   ],
   "source": [
    "\"\"\"\n",
    "QUES 12: What is method overriding in OOP?\n",
    "ANS: Method overriding is a concept in Object-Oriented Programming (OOP) where a subclass provides a specific implementation of a method that is already\n",
    "defined in its parent class. The overridden method in the subclass has the same name, return type, and parameters as the method in the parent class.\n",
    "\n",
    "Key Points:\n",
    "It allows a subclass to customize or completely replace the behavior of the method inherited from the parent class.\n",
    "\n",
    "It supports polymorphism, where the same method name can have different behaviors based on the object (class) calling it.\n",
    "\n",
    "Why Use Method Overriding?\n",
    "To provide specific behavior in the subclass that differs from the generic behavior in the parent class.\n",
    "\n",
    "To implement runtime polymorphism.\n",
    "\"\"\"\n",
    "class Animal:\n",
    "    def speak(self):\n",
    "        print(\"The animal makes a sound\")\n",
    "\n",
    "class Dog(Animal):\n",
    "    def speak(self):\n",
    "        print(\"The dog barks\")\n",
    "\n",
    "class Cat(Animal):\n",
    "    def speak(self):\n",
    "        print(\"The cat meows\")\n",
    "\n",
    "# Polymorphism in action\n",
    "animals = [Dog(), Cat(), Animal()]\n",
    "for animal in animals:\n",
    "    animal.speak()"
   ]
  },
  {
   "cell_type": "code",
   "execution_count": 24,
   "id": "922f7edf-8045-4915-83b7-f569a92eca6d",
   "metadata": {},
   "outputs": [
    {
     "name": "stdout",
     "output_type": "stream",
     "text": [
      "5\n",
      "314.15999999999997\n"
     ]
    }
   ],
   "source": [
    "\"\"\"\n",
    "QUES 13: What is a property decorator in Python?\n",
    "ANS: The @property decorator in Python is used to define a method as a read-only property, allowing a class method to be accessed like an attribute. It provides a Pythonic way to use getter, setter, and deleter methods while keeping the attribute access syntax clean.\n",
    "\n",
    "Why Use @property?\n",
    "Encapsulation - Control access to private attributes.\n",
    "\n",
    "Computed attributes - Dynamically compute a value when it's accessed.\n",
    "\n",
    "Attribute validation - Add logic before getting or setting a value.\n",
    "\n",
    "How It Works?\n",
    "@property: Defines a getter method.\n",
    "\n",
    "@<property_name>.setter: Defines a setter.\n",
    "\n",
    "@<property_name>.deleter: (Optional) Defines a deleter.\n",
    "\"\"\"\n",
    "class Circle:\n",
    "    def __init__(self, radius):\n",
    "        self._radius = radius\n",
    "\n",
    "    @property\n",
    "    def radius(self):\n",
    "        return self._radius\n",
    "\n",
    "    @radius.setter\n",
    "    def radius(self, value):\n",
    "        if value < 0:\n",
    "            raise ValueError(\"Radius cannot be negative\")\n",
    "        self._radius = value\n",
    "\n",
    "    @property\n",
    "    def area(self):\n",
    "        return 3.1416 * self._radius ** 2\n",
    "\n",
    "c = Circle(5)\n",
    "print(c.radius)  # Calls getter\n",
    "c.radius = 10    # Calls setter\n",
    "print(c.area)    # Calls area property\n",
    "     "
   ]
  },
  {
   "cell_type": "code",
   "execution_count": 26,
   "id": "4fba348e-475f-4d71-902d-d5ad15b41fd4",
   "metadata": {},
   "outputs": [
    {
     "name": "stdout",
     "output_type": "stream",
     "text": [
      "Woof!\n",
      "Meow!\n"
     ]
    }
   ],
   "source": [
    "\"\"\"\n",
    "QUES 14: Why is polymorphism important in OOP?\n",
    "ANS: Polymorphism is a fundamental concept in Object-Oriented Programming (OOP) that allows objects of different classes to be treated as objects of a \n",
    "common superclass. It enables the same interface to represent different underlying data types or behaviors.\n",
    "\n",
    "Why Polymorphism Is Important in OOP?\n",
    "Code Reusability:\n",
    "You can write general-purpose code that works with different types of objects.\n",
    "\n",
    "For example, a function can operate on any object that implements a certain method, regardless of the object's specific class.\n",
    "\n",
    "Flexibility and Extensibility:\n",
    "You can introduce new classes with minimal or no changes to existing code, as long as they follow the expected interface or behavior.\n",
    "\n",
    "Simplified Code:\n",
    "Reduces code duplication by using a common interface.\n",
    "\n",
    "Makes code easier to read, maintain, and manage.\n",
    "\n",
    "Supports Open/Closed Principle:\n",
    "Code is open for extension but closed for modification.\n",
    "\n",
    "ou can extend a system with new behavior (via new classes) withoout changing existing functionality.\n",
    "\"\"\"\n",
    "\n",
    "\n",
    "class Animal:\n",
    "    def speak(self):\n",
    "        pass\n",
    "\n",
    "class Dog(Animal):\n",
    "    def speak(self):\n",
    "        return \"Woof!\"\n",
    "\n",
    "class Cat(Animal):\n",
    "    def speak(self):\n",
    "        return \"Meow!\"\n",
    "\n",
    "def make_animal_speak(animal):\n",
    "    print(animal.speak())\n",
    "\n",
    "# Polymorphism in action\n",
    "animals = [Dog(), Cat()]\n",
    "for animal in animals:\n",
    "    make_animal_speak(animal)\n",
    "     "
   ]
  },
  {
   "cell_type": "code",
   "execution_count": 28,
   "id": "40118b8d-92d6-4610-af44-23a9f02cf16b",
   "metadata": {},
   "outputs": [
    {
     "name": "stdout",
     "output_type": "stream",
     "text": [
      "Bark!\n",
      "Sleeping...\n"
     ]
    }
   ],
   "source": [
    "\"\"\"\n",
    "QUES 15: What is an abstract class in Python?\n",
    "ANS: An abstract class in Python is a class that cannot be instantiated and is designed to be inherited by other classes. It serves as a template or blueprint for subclasses, and it can define abstract methods that must be implemented by any subclass. Python supports abstract classes through the abc (Abstract Base Class) module.\n",
    "\n",
    "Key Features of Abstract Classes:\n",
    "Cannot be instantiated (you can’t create an object of an abstract class).\n",
    "\n",
    "Can contain abstract methods (methods with no implementation).\n",
    "\n",
    "Can also have regular methods with implementations.\n",
    "\n",
    "Enforces a common interface for all subclasses.\n",
    "\n",
    "Why Use Abstract Classes?\n",
    "Enforce consistency across subclasses.\n",
    "\n",
    "Define a contract/interface that all derived classes must follow.\n",
    "\n",
    "Promote code reliability and maintainability in larger applications.\n",
    "\"\"\"\n",
    "from abc import ABC, abstractmethod\n",
    "\n",
    "class Animal(ABC):\n",
    "\n",
    "    @abstractmethod\n",
    "    def make_sound(self):\n",
    "        pass\n",
    "\n",
    "    def sleep(self):\n",
    "        print(\"Sleeping...\")  # regular method\n",
    "\n",
    "# This will raise an error:\n",
    "# animal = Animal()  # TypeError: Can't instantiate abstract class\n",
    "\n",
    "class Dog(Animal):\n",
    "    def make_sound(self):\n",
    "        print(\"Bark!\")\n",
    "\n",
    "dog = Dog()\n",
    "dog.make_sound()\n",
    "dog.sleep()\n",
    "     "
   ]
  },
  {
   "cell_type": "code",
   "execution_count": null,
   "id": "41c24f1d-a896-4a35-9ce3-311ad0e72f78",
   "metadata": {},
   "outputs": [],
   "source": [
    "\"\"\"\n",
    "QUES 16: What are the advantages of OOP?\n",
    "ANS: Object-Oriented Programming (OOP) offers several key advantages that make it a popular paradigm in software development.\n",
    "\n",
    "Modularity:\n",
    "Code is organized into classes and objects, making it modular and easy to manage.\n",
    "\n",
    "Each class encapsulates its own data and functionality, promoting separation of concerns.\n",
    "\n",
    "Reusability:\n",
    "Classes can be reused across programs or projects.\n",
    "\n",
    "Inheritance allows you to create new classes based on existing ones, reducing code duplication.\n",
    "\n",
    "Scalability and Maintainability:\n",
    "Large applications become easier to scale and maintain.\n",
    "\n",
    "You can modify or extend specific parts of the system without affecting others, thanks to encapsulation and modularity.\n",
    "\n",
    "Encapsulation:\n",
    "Internal object details are hidden using private or protected members.\n",
    "\n",
    "Access is controlled through methods, improving security and robustness.\n",
    "\n",
    "Inheritance:\n",
    "Allows a class (child) to inherit properties and behavior from another class (parent).\n",
    "\n",
    "Promotes code reuse and simplifies code structure.\n",
    "\n",
    "Polymorphism:\n",
    "The same interface can be used for different data types or classes.\n",
    "\n",
    "Enhances flexibility by allowing objects to be treated as instances of their parent class.\n",
    "\n",
    "Abstraction:\n",
    "Focuses on essential qualities while hiding irrelevant details.\n",
    "\n",
    "Simplifies complex systems by exposing only relevant parts through public methods and properties.\n",
    "\n",
    "Improved Productivity and Collaboration:\n",
    "OOP promotes a structured, consistent design that is easier for teams to understand and work on.\n",
    "\n",
    "Code can be developed and tested in smaller, isolated units (classes).\n",
    "\n",
    "9.Real-World Modeling:\n",
    "\n",
    "OOP allows developers to model real-world entities (like BankAccount, Car, User) naturally.\n",
    "\n",
    "This makes design and reasoning about the system more intuitive.\n",
    "\"\"\""
   ]
  },
  {
   "cell_type": "code",
   "execution_count": 30,
   "id": "163980ec-9e62-47ae-a277-4d703233e26e",
   "metadata": {},
   "outputs": [
    {
     "name": "stdout",
     "output_type": "stream",
     "text": [
      "Canis familiaris\n",
      "Canis familiaris\n",
      "Canis lupus\n"
     ]
    }
   ],
   "source": [
    "\"\"\"\n",
    "QUES 17: What is the difference between a class variable and an instance variable?\n",
    "ANS: In Python (and most object-oriented languages), the key difference between a class variable and an instance variable lies in how they are stored and shared.\n",
    "\n",
    "Class Variable:\n",
    "Shared across all instances of the class.\n",
    "\n",
    "Defined inside the class, but outside any instance methods.\n",
    "\n",
    "Changing the class variable affects all instances (unless overridden).\n",
    "\n",
    "Instance Variable:\n",
    "Unique to each instance of the class.\n",
    "\n",
    "Defined using self inside instance methods (usually init).\n",
    "\n",
    "Changing it affects only that specific object.\n",
    "\"\"\"\n",
    "class Dog:                                         # class variable\n",
    "    species = \"Canis familiaris\"\n",
    "\n",
    "    def __init__(self, name):\n",
    "        self.name = name\n",
    "\n",
    "dog1 = Dog(\"Buddy\")\n",
    "dog2 = Dog(\"Max\")\n",
    "\n",
    "print(dog1.species)  # Canis familiaris\n",
    "print(dog2.species)  # Canis familiaris\n",
    "\n",
    "Dog.species = \"Canis lupus\"\n",
    "print(dog1.species)  # Canis lupus (changed for all instances)"
   ]
  },
  {
   "cell_type": "code",
   "execution_count": 31,
   "id": "f8994335-c3b3-4b63-a53c-1cbd81c9361f",
   "metadata": {},
   "outputs": [
    {
     "name": "stdout",
     "output_type": "stream",
     "text": [
      "Method from Parent1\n",
      "Method from Parent2\n"
     ]
    }
   ],
   "source": [
    "\"\"\"\n",
    "QUES 18: What is multiple inheritance in Python?\n",
    "ANS: Multiple inheritance in Python is a feature that allows a class to inherit from more than one parent class. This means a derived class can access attributes and methods from multiple base classes, combining their behavior.\n",
    "\n",
    "Why Use Multiple Inheritance?\n",
    "To combine functionality from different classes.\n",
    "\n",
    "To promote code reuse by inheriting behaviors from multiple sources.\n",
    "\"\"\"\n",
    "class Parent1:\n",
    "    def method1(self):\n",
    "        print(\"Method from Parent1\")\n",
    "\n",
    "class Parent2:\n",
    "    def method2(self):\n",
    "        print(\"Method from Parent2\")\n",
    "\n",
    "class Child(Parent1, Parent2):\n",
    "    pass\n",
    "\n",
    "c = Child()\n",
    "c.method1()\n",
    "c.method2()"
   ]
  },
  {
   "cell_type": "code",
   "execution_count": 32,
   "id": "6f97f3f7-941c-4d6b-b98a-fe7d58063862",
   "metadata": {},
   "outputs": [
    {
     "name": "stdout",
     "output_type": "stream",
     "text": [
      "Person named Alice\n"
     ]
    },
    {
     "data": {
      "text/plain": [
       "'Person named Alice'"
      ]
     },
     "execution_count": 32,
     "metadata": {},
     "output_type": "execute_result"
    }
   ],
   "source": [
    "\"\"\"\n",
    "QUES 19: Explain the purpose of ‘’str’ and ‘repr’ ‘ methods in Python.\n",
    "ANS: In Python, the str and repr methods are special (dunder) methods used to define string representations of objects. They serve different but complementary purposes.\n",
    "\n",
    "str — User-Friendly String Representation:\n",
    "Called by str(obj) or print(obj).\n",
    "\n",
    "Intended to return a readable, user-friendly description of the object.\n",
    "\n",
    "Meant for end-users.\n",
    "\n",
    "repr — Developer-Friendly Representation:\n",
    "Called by repr(obj) or when you type the object in an interactive shell.\n",
    "\n",
    "Should return a detailed, unambiguous string that ideally can be used to recreate the object.\n",
    "\n",
    "Meant for developers and debugging.\n",
    "\n",
    "If Both Are Defined:\n",
    "print(obj) → uses str\n",
    "\n",
    "repr(obj) → uses repr\n",
    "\n",
    "If str is not defined, repr is used as a fallback.\n",
    "\"\"\"\n",
    "class Person:                                          # str — User-Friendly String Representation\n",
    "    def __init__(self, name):\n",
    "        self.name = name\n",
    "\n",
    "    def __str__(self):\n",
    "        return f\"Person named {self.name}\"\n",
    "\n",
    "p = Person(\"Alice\")\n",
    "print(p)\n",
    "str(p)"
   ]
  },
  {
   "cell_type": "code",
   "execution_count": 33,
   "id": "ddb15914-a04b-436f-993d-9e254536db90",
   "metadata": {},
   "outputs": [
    {
     "data": {
      "text/plain": [
       "\"Person('Alice')\""
      ]
     },
     "execution_count": 33,
     "metadata": {},
     "output_type": "execute_result"
    }
   ],
   "source": [
    "class Person:                                          # repr — Developer-Friendly Representation\n",
    "    def __init__(self, name):\n",
    "        self.name = name\n",
    "\n",
    "    def __repr__(self):\n",
    "        return f\"Person('{self.name}')\"\n",
    "\n",
    "p = Person(\"Alice\")\n",
    "repr(p)"
   ]
  },
  {
   "cell_type": "code",
   "execution_count": 34,
   "id": "92f14410-3e8f-4f4c-a85b-b35b5ca0c244",
   "metadata": {},
   "outputs": [
    {
     "name": "stdout",
     "output_type": "stream",
     "text": [
      "Buddy\n",
      "Golden Retriever\n"
     ]
    }
   ],
   "source": [
    "\"\"\"\n",
    "QUES 20: What is the significance of the ‘super()’ function in Python?\n",
    "ANS: The super() function in Python is used to call methods from a parent or superclass. It allows child classes to access and invoke the methods or constructors of their parent classes without directly naming them.\n",
    "\n",
    "super() is used to call a method from the parent class.\n",
    "\n",
    "It supports constructor and method chaining, especially in inheritance.\n",
    "\n",
    "It's essential for working correctly with multiple inheritance and MRO.\n",
    "\n",
    "Key Significance of super():\n",
    "Code Reusability - Reuses parent class logic without duplication\n",
    "\n",
    "Maintainability - Easier to refactor (no need to hardcode parent class names)\n",
    "\n",
    "Multiple Inheritance Support - Works correctly with Python’s Method Resolution Order (MRO)\n",
    "\n",
    "Constructor Chaining - Allows proper initialization of parent classes\n",
    "\"\"\"\n",
    "class Animal:                                               # Using super() with Constructor\n",
    "    def __init__(self, name):\n",
    "        self.name = name\n",
    "\n",
    "class Dog(Animal):\n",
    "    def __init__(self, name, breed):\n",
    "        super().__init__(name)  # Calls Animal's __init__\n",
    "        self.breed = breed\n",
    "\n",
    "d = Dog(\"Buddy\", \"Golden Retriever\")\n",
    "print(d.name)\n",
    "print(d.breed)\n",
    "     "
   ]
  },
  {
   "cell_type": "code",
   "execution_count": 35,
   "id": "7769643a-dbc5-4868-aa59-a0d72073f0e8",
   "metadata": {},
   "outputs": [
    {
     "name": "stdout",
     "output_type": "stream",
     "text": [
      "Hello from Parent\n",
      "Hello from Child\n"
     ]
    }
   ],
   "source": [
    "\n",
    "class Parent:                                                # Using super() with Methods\n",
    "    def greet(self):\n",
    "        print(\"Hello from Parent\")\n",
    "\n",
    "class Child(Parent):\n",
    "    def greet(self):\n",
    "        super().greet()        # Call the parent class greet\n",
    "        print(\"Hello from Child\")\n",
    "\n",
    "c = Child()\n",
    "c.greet()"
   ]
  },
  {
   "cell_type": "code",
   "execution_count": 36,
   "id": "742ed900-fe13-47a7-803e-20bb32cf306c",
   "metadata": {},
   "outputs": [
    {
     "name": "stdout",
     "output_type": "stream",
     "text": [
      "Closing file...\n"
     ]
    }
   ],
   "source": [
    "\"\"\"\n",
    "QUES 21: What is the significance of the del method in Python?\n",
    "ANS: The del method in Python is a destructor — a special method that is called when an object is about to be destroyed (i.e., when there are no more references to it). \n",
    "Its primary use is for clean-up operations, such as closing files or network connections, releasing resources, etc.\n",
    "\n",
    "Key Points about del:\n",
    "Called automatically - Python calls del when an object is garbage collected.\n",
    "\n",
    "Not guaranteed to run immediately - The exact time of its execution is not deterministic. It's called when the reference count drops to zero, but in complex \n",
    "programs (especially those using reference cycles or in environments like PyPy), garbage collection may be delayed or skipped.\n",
    "\n",
    "May not be called at all - If the program ends and objects are still alive, or if there are circular references, del might never get called.\n",
    "\n",
    "Avoid relying on it - It’s generally discouraged to rely on del for important logic. Instead, use context managers (with statements) or explicit cleanup\n",
    "methods.\n",
    "\"\"\"\n",
    "class FileHandler:\n",
    "    def __init__(self, filename):\n",
    "        self.file = open(filename, 'w')\n",
    "\n",
    "    def __del__(self):\n",
    "        print(\"Closing file...\")\n",
    "        self.file.close()\n",
    "\n",
    "handler = FileHandler('example.txt')\n",
    "handler.file.write('Hello, world!')\n",
    "del handler  # Explicitly delete the object"
   ]
  },
  {
   "cell_type": "code",
   "execution_count": 43,
   "id": "c46943c6-7593-4f82-ae1f-16d486bb87c5",
   "metadata": {},
   "outputs": [
    {
     "data": {
      "text/plain": [
       "\"\\nQUES 22: What is the difference between @staticmethod and @classmethod in Python?\\nANS: In Python, both @staticmethod and @classmethod are decorators used to define methods that are not regular instance methods — but they behave \\ndifferently and serve different purposes.\\n\\n@staticmethod:\\nDoes not take self or cls as the first argument.\\n\\nCannot access or modify the class state.\\n\\nBehaves just like a regular function but belongs to the class's namespace.\\n\\nWhen to use?\\nUse @staticmethod when your method doesn’t need to access the class or instance — it's logically related to the class but doesn't use class or instance\\nvariables.\\n\\n@classmethod:\\nTakes cls (the class itself) as the first argument.\\n\\nCan access or modify class variables and call other class methods.\\n\\nWorks with inheritance — cls refers to the actual class used to call the method.\\n\\nWhen to use?\\nUse @classmethod when you need to create factory methods, modify class state, or work with inheritance logic.\\n\""
      ]
     },
     "execution_count": 43,
     "metadata": {},
     "output_type": "execute_result"
    }
   ],
   "source": [
    "\"\"\"\n",
    "QUES 22: What is the difference between @staticmethod and @classmethod in Python?\n",
    "ANS: In Python, both @staticmethod and @classmethod are decorators used to define methods that are not regular instance methods — but they behave \n",
    "differently and serve different purposes.\n",
    "\n",
    "@staticmethod:\n",
    "Does not take self or cls as the first argument.\n",
    "\n",
    "Cannot access or modify the class state.\n",
    "\n",
    "Behaves just like a regular function but belongs to the class's namespace.\n",
    "\n",
    "When to use?\n",
    "Use @staticmethod when your method doesn’t need to access the class or instance — it's logically related to the class but doesn't use class or instance\n",
    "variables.\n",
    "\n",
    "@classmethod:\n",
    "Takes cls (the class itself) as the first argument.\n",
    "\n",
    "Can access or modify class variables and call other class methods.\n",
    "\n",
    "Works with inheritance — cls refers to the actual class used to call the method.\n",
    "\n",
    "When to use?\n",
    "Use @classmethod when you need to create factory methods, modify class state, or work with inheritance logic.\n",
    "\"\"\""
   ]
  },
  {
   "cell_type": "code",
   "execution_count": 44,
   "id": "69d51faa-248c-41c7-9768-01d6650bde6d",
   "metadata": {},
   "outputs": [
    {
     "name": "stdout",
     "output_type": "stream",
     "text": [
      "The Alchemist\n",
      "1\n"
     ]
    }
   ],
   "source": [
    "class Book:                                     #@classmethod\n",
    "    books_created = 0\n",
    "\n",
    "    def __init__(self, title):\n",
    "        self.title = title\n",
    "        Book.books_created += 1\n",
    "\n",
    "    @classmethod\n",
    "    def from_string(cls, book_str):\n",
    "        title = book_str.split(\":\")[1]\n",
    "        return cls(title)\n",
    "\n",
    "b = Book.from_string(\"book:The Alchemist\")\n",
    "print(b.title)\n",
    "print(Book.books_created)"
   ]
  },
  {
   "cell_type": "code",
   "execution_count": 45,
   "id": "0416d889-a2e3-4ba1-9f1b-1b82cc73348c",
   "metadata": {},
   "outputs": [
    {
     "name": "stdout",
     "output_type": "stream",
     "text": [
      "Some sound\n",
      "Woof!\n",
      "Meow!\n"
     ]
    }
   ],
   "source": [
    "\"\"\"\n",
    "QUES 23: How does polymorphism work in Python with inheritance?\n",
    "ANS: Polymorphism is a key concept in object-oriented programming that allows objects of different classes to be treated through the same interface, \n",
    "typically via inheritance. In Python, polymorphism with inheritance works by overriding methods in child classes and using base class references to call\n",
    "them.\n",
    "\n",
    "How it Works?\n",
    "The base class Animal defines the interface (speak method).\n",
    "\n",
    "Subclasses Dog and Cat override the method.\n",
    "\n",
    "Python uses dynamic (runtime) method resolution — it looks up the method on the actual object type, even if it’s being accessed through a base class \n",
    "reference.\n",
    "\"\"\"\n",
    "class Animal:\n",
    "    def speak(self):\n",
    "        return \"Some sound\"\n",
    "\n",
    "class Dog(Animal):\n",
    "    def speak(self):\n",
    "        return \"Woof!\"\n",
    "\n",
    "class Cat(Animal):\n",
    "    def speak(self):\n",
    "        return \"Meow!\"\n",
    "\n",
    "def make_animal_speak(animal):\n",
    "    print(animal.speak())\n",
    "\n",
    "a = Animal()\n",
    "d = Dog()\n",
    "c = Cat()\n",
    "\n",
    "make_animal_speak(a)\n",
    "make_animal_speak(d)\n",
    "make_animal_speak(c)"
   ]
  },
  {
   "cell_type": "code",
   "execution_count": 46,
   "id": "8f495d69-d778-47b5-9ba6-93dff30db8b9",
   "metadata": {},
   "outputs": [
    {
     "name": "stdout",
     "output_type": "stream",
     "text": [
      "Alice, 30, from New York\n"
     ]
    },
    {
     "data": {
      "text/plain": [
       "<__main__.Person at 0x1e861d8ea50>"
      ]
     },
     "execution_count": 46,
     "metadata": {},
     "output_type": "execute_result"
    }
   ],
   "source": [
    "\"\"\"\n",
    "QUES 24: What is method chaining in Python OOP?\n",
    "ANS: Method chaining is a technique in object-oriented programming where multiple method calls are strung together in a single line, using the dot (.) operator. This works by having each method return the object itself (self), so the next method can be called on the same object.\n",
    "\n",
    "How It Works?\n",
    "Each method returns self, the instance itself.\n",
    "\n",
    "That return allows you to call another method on the same object immediately.\n",
    "\n",
    "This makes the code concise, readable, and expressive.\n",
    "\"\"\"\n",
    "class Person:\n",
    "    def __init__(self, name):\n",
    "        self.name = name\n",
    "        self.age = None\n",
    "        self.city = None\n",
    "\n",
    "    def set_age(self, age):\n",
    "        self.age = age\n",
    "        return self  # Return the current object\n",
    "\n",
    "    def set_city(self, city):\n",
    "        self.city = city\n",
    "        return self\n",
    "\n",
    "    def display(self):\n",
    "        print(f\"{self.name}, {self.age}, from {self.city}\")\n",
    "        return self\n",
    "\n",
    "p = Person(\"Alice\")\n",
    "p.set_age(30).set_city(\"New York\").display()"
   ]
  },
  {
   "cell_type": "code",
   "execution_count": 47,
   "id": "da8d32f6-2664-4925-a4f3-e3ff7e247d2b",
   "metadata": {},
   "outputs": [
    {
     "name": "stdout",
     "output_type": "stream",
     "text": [
      "Hello, Alice!\n"
     ]
    }
   ],
   "source": [
    "\"\"\"\n",
    "QUES 25: What is the purpose of the call method in Python?\n",
    "ANS: The call method in Python allows an instance of a class to be called like a function.\n",
    "\n",
    "Primary Purpose:\n",
    "Create function-like objects with internal state.\n",
    "\n",
    "Implement callback handlers, decorators, or strategies.\n",
    "\n",
    "Build clean, intuitive APIs (e.g., machine learning models, custom pipelines).\n",
    "\"\"\"\n",
    "class Greeter:\n",
    "    def __init__(self, name):\n",
    "        self.name = name\n",
    "\n",
    "    def __call__(self, greeting):\n",
    "        return f\"{greeting}, {self.name}!\"\n",
    "\n",
    "g = Greeter(\"Alice\")\n",
    "print(g(\"Hello\"))"
   ]
  },
  {
   "cell_type": "code",
   "execution_count": null,
   "id": "c04f3c8f-686f-4c48-957e-4d89406717d8",
   "metadata": {},
   "outputs": [],
   "source": [
    "                                                     \"\"\" ** Practical Questions ** \"\"\""
   ]
  },
  {
   "cell_type": "code",
   "execution_count": 48,
   "id": "f8e52ab7-eb6a-4d21-bf5e-8f4d9f662296",
   "metadata": {},
   "outputs": [
    {
     "name": "stdout",
     "output_type": "stream",
     "text": [
      "The animal makes a sound.\n",
      "Bark!\n"
     ]
    }
   ],
   "source": [
    "\"\"\"QUES 1: Create a parent class Animal with a method speak() that prints a generic message. Create a child class Dog that overrides the speak() method \n",
    "   to print \"Bark!\".\n",
    "\"\"\"\n",
    "# Parent class\n",
    "class Animal:\n",
    "    def speak(self):\n",
    "        print(\"The animal makes a sound.\")\n",
    "\n",
    "# Child class\n",
    "class Dog(Animal):\n",
    "    def speak(self):\n",
    "        print(\"Bark!\")\n",
    "\n",
    "a = Animal()\n",
    "a.speak()\n",
    "\n",
    "d = Dog()\n",
    "d.speak()"
   ]
  },
  {
   "cell_type": "code",
   "execution_count": 50,
   "id": "9dd2009a-ac74-42d1-b811-779899fe27b7",
   "metadata": {},
   "outputs": [
    {
     "name": "stdout",
     "output_type": "stream",
     "text": [
      "Area of Circle: 78.53981633974483\n",
      "Area of Rectangle: 24\n"
     ]
    }
   ],
   "source": [
    "#QUES 2: Write a program to create an abstract class Shape with a method area(). Derive classes Circle and Rectangle from it and implement the area() \n",
    "#method in both.\n",
    "\n",
    "from abc import ABC, abstractmethod\n",
    "import math\n",
    "\n",
    "# Abstract base class\n",
    "class Shape(ABC):\n",
    "    @abstractmethod\n",
    "    def area(self):\n",
    "        pass\n",
    "\n",
    "# Derived class: Circle\n",
    "class Circle(Shape):\n",
    "    def __init__(self, radius):\n",
    "        self.radius = radius\n",
    "\n",
    "    def area(self):\n",
    "        return math.pi * self.radius ** 2\n",
    "\n",
    "# Derived class: Rectangle\n",
    "class Rectangle(Shape):\n",
    "    def __init__(self, width, height):\n",
    "        self.width = width\n",
    "        self.height = height\n",
    "\n",
    "    def area(self):\n",
    "        return self.width * self.height\n",
    "\n",
    "\n",
    "circle = Circle(5)\n",
    "print(f\"Area of Circle: {circle.area()}\")\n",
    "\n",
    "rectangle = Rectangle(4, 6)\n",
    "print(f\"Area of Rectangle: {rectangle.area()}\")\n"
   ]
  },
  {
   "cell_type": "code",
   "execution_count": 51,
   "id": "53f468da-f2a1-417d-a31a-9caca7a28e2f",
   "metadata": {},
   "outputs": [
    {
     "name": "stdout",
     "output_type": "stream",
     "text": [
      "Type: Car\n",
      "Brand: Tesla\n",
      "Battery: 75 kWh\n"
     ]
    }
   ],
   "source": [
    "\"\"\"\n",
    "QUES 3: Implement a multi-level inheritance scenario where a class Vehicle has an attribute type. Derive a class Car and further derive a class \n",
    "ElectricCar that adds a battery attribute.\n",
    "\"\"\"\n",
    "# Base class\n",
    "class Vehicle:\n",
    "    def __init__(self, vehicle_type):\n",
    "        self.type = vehicle_type\n",
    "\n",
    "# Derived class from Vehicle\n",
    "class Car(Vehicle):\n",
    "    def __init__(self, vehicle_type, brand):\n",
    "        super().__init__(vehicle_type)\n",
    "        self.brand = brand\n",
    "\n",
    "# Derived class from Car (multi-level inheritance)\n",
    "class ElectricCar(Car):\n",
    "    def __init__(self, vehicle_type, brand, battery_capacity):\n",
    "        super().__init__(vehicle_type, brand)\n",
    "        self.battery = battery_capacity\n",
    "\n",
    "    def display_info(self):\n",
    "        print(f\"Type: {self.type}\")\n",
    "        print(f\"Brand: {self.brand}\")\n",
    "        print(f\"Battery: {self.battery} kWh\")\n",
    "\n",
    "my_electric_car = ElectricCar(\"Car\", \"Tesla\", 75)\n",
    "my_electric_car.display_info()"
   ]
  },
  {
   "cell_type": "code",
   "execution_count": 52,
   "id": "4fa9fbe5-dae3-4afd-b791-e956f775cffc",
   "metadata": {},
   "outputs": [
    {
     "name": "stdout",
     "output_type": "stream",
     "text": [
      "Sparrow flies high in the sky.\n",
      "Penguins can't fly, but they swim well.\n"
     ]
    }
   ],
   "source": [
    "\"\"\"QUES 4: Demonstrate polymorphism by creating a base class Bird with a method fly(). Create two derived classes Sparrow and Penguin that override the \n",
    "          fly() method.\n",
    "\"\"\"\n",
    "# Base class\n",
    "class Bird:\n",
    "    def fly(self):\n",
    "        print(\"This bird can fly.\")\n",
    "\n",
    "# Derived class: Sparrow\n",
    "class Sparrow(Bird):\n",
    "    def fly(self):\n",
    "        print(\"Sparrow flies high in the sky.\")\n",
    "\n",
    "# Derived class: Penguin\n",
    "class Penguin(Bird):\n",
    "    def fly(self):\n",
    "        print(\"Penguins can't fly, but they swim well.\")\n",
    "\n",
    "# Function to demonstrate polymorphism\n",
    "def make_bird_fly(bird):\n",
    "    bird.fly()\n",
    "\n",
    "sparrow = Sparrow()\n",
    "penguin = Penguin()\n",
    "\n",
    "make_bird_fly(sparrow)\n",
    "make_bird_fly(penguin)"
   ]
  },
  {
   "cell_type": "code",
   "execution_count": 54,
   "id": "accc5bcd-eef6-46cf-9c5f-49451b46d93b",
   "metadata": {},
   "outputs": [
    {
     "name": "stdout",
     "output_type": "stream",
     "text": [
      "Deposited: $50\n",
      "Withdrew: $30\n",
      "Current Balance: $120\n"
     ]
    }
   ],
   "source": [
    "\"\"\"\n",
    "QUES 5: Write a program to demonstrate encapsulation by creating a class BankAccount with private attributes balance and methods to deposit, withdraw,\n",
    "and check balance.\n",
    "\"\"\"\n",
    "class BankAccount:\n",
    "    def __init__(self, initial_balance=0):\n",
    "        self.__balance = initial_balance  # Private attribute\n",
    "\n",
    "    def deposit(self, amount):\n",
    "        if amount > 0:\n",
    "            self.__balance += amount\n",
    "            print(f\"Deposited: ${amount}\")\n",
    "        else:\n",
    "            print(\"Deposit amount must be positive.\")\n",
    "\n",
    "    def withdraw(self, amount):\n",
    "        if amount <= 0:\n",
    "            print(\"Withdrawal amount must be positive.\")\n",
    "        elif amount > self.__balance:\n",
    "            print(\"Insufficient balance.\")\n",
    "        else:\n",
    "            self.__balance -= amount\n",
    "            print(f\"Withdrew: ${amount}\")\n",
    "\n",
    "    def get_balance(self):\n",
    "        return self.__balance\n",
    "\n",
    "account = BankAccount(100)\n",
    "account.deposit(50)\n",
    "account.withdraw(30)\n",
    "print(f\"Current Balance: ${account.get_balance()}\")\n",
    "# Trying to access private attribute directly (will raise an error)\n",
    "# print(account.__balance)  # Uncommenting this will cause AttributeError"
   ]
  },
  {
   "cell_type": "code",
   "execution_count": 55,
   "id": "958c9cf2-2f87-4e46-9cd3-51fea01d6187",
   "metadata": {},
   "outputs": [
    {
     "name": "stdout",
     "output_type": "stream",
     "text": [
      "Strumming the guitar strings.\n",
      "Playing the piano keys.\n"
     ]
    }
   ],
   "source": [
    "\"\"\"\n",
    "QUES 6: Demonstrate runtime polymorphism using a method play() in a base class Instrument. Derive classes Guitar and Piano that implement their own \n",
    "version of play().\n",
    "\"\"\"\n",
    "# Base class\n",
    "class Instrument:\n",
    "    def play(self):\n",
    "        print(\"Playing the instrument.\")\n",
    "\n",
    "# Derived class: Guitar\n",
    "class Guitar(Instrument):\n",
    "    def play(self):\n",
    "        print(\"Strumming the guitar strings.\")\n",
    "\n",
    "# Derived class: Piano\n",
    "class Piano(Instrument):\n",
    "    def play(self):\n",
    "        print(\"Playing the piano keys.\")\n",
    "\n",
    "# Function demonstrating runtime polymorphism\n",
    "def perform(instrument):\n",
    "    instrument.play()\n",
    "\n",
    "guitar = Guitar()\n",
    "piano = Piano()\n",
    "\n",
    "perform(guitar)\n",
    "perform(piano)"
   ]
  },
  {
   "cell_type": "code",
   "execution_count": 56,
   "id": "25b91ff0-d001-4d04-8d69-57f8a6643a91",
   "metadata": {},
   "outputs": [
    {
     "name": "stdout",
     "output_type": "stream",
     "text": [
      "15\n",
      "5\n"
     ]
    }
   ],
   "source": [
    "\"\"\"\n",
    "QUES 7: Create a class MathOperations with a class method add_numbers() to add two numbers and a static method subtract_numbers() to subtract two numbers.\n",
    "\"\"\"\n",
    "class MathOperations:\n",
    "    @classmethod\n",
    "    def add_numbers(cls, a, b):\n",
    "        return a + b\n",
    "\n",
    "    @staticmethod\n",
    "    def subtract_numbers(a, b):\n",
    "        return a - b\n",
    "\n",
    "print(MathOperations.add_numbers(10, 5))\n",
    "print(MathOperations.subtract_numbers(10, 5))\n",
    "     \n"
   ]
  },
  {
   "cell_type": "code",
   "execution_count": 57,
   "id": "40cbdc73-9f5e-4dc6-84ce-d3f7052ecbd9",
   "metadata": {},
   "outputs": [
    {
     "name": "stdout",
     "output_type": "stream",
     "text": [
      "Total persons created: 3\n"
     ]
    }
   ],
   "source": [
    "#QUES 8: Implement a class Person with a class method to count the total number of persons created.\n",
    "\n",
    "class Person:\n",
    "    _count = 0  # Class variable to count instances\n",
    "\n",
    "    def __init__(self, name):\n",
    "        self.name = name\n",
    "        Person._count += 1  # Increment count on each new instance\n",
    "\n",
    "    @classmethod\n",
    "    def total_persons(cls):\n",
    "        return cls._count\n",
    "\n",
    "p1 = Person(\"Alice\")\n",
    "p2 = Person(\"Bob\")\n",
    "p3 = Person(\"Charlie\")\n",
    "\n",
    "print(f\"Total persons created: {Person.total_persons()}\")"
   ]
  },
  {
   "cell_type": "code",
   "execution_count": 58,
   "id": "943369d8-b133-41d8-a00f-a7f3b4be9b84",
   "metadata": {},
   "outputs": [
    {
     "name": "stdout",
     "output_type": "stream",
     "text": [
      "3/4\n"
     ]
    }
   ],
   "source": [
    "#QUES 9: Write a class Fraction with attributes numerator and denominator. Override the str method to display the fraction as \"numerator/denominator\".\n",
    "\n",
    "class Fraction:\n",
    "    def __init__(self, numerator, denominator):\n",
    "        if denominator == 0:\n",
    "            raise ValueError(\"Denominator cannot be zero.\")\n",
    "        self.numerator = numerator\n",
    "        self.denominator = denominator\n",
    "\n",
    "    def __str__(self):\n",
    "        return f\"{self.numerator}/{self.denominator}\"\n",
    "\n",
    "f = Fraction(3, 4)\n",
    "print(f)"
   ]
  },
  {
   "cell_type": "code",
   "execution_count": 59,
   "id": "28b4254b-e592-4c56-b215-570e41ce4e4a",
   "metadata": {},
   "outputs": [
    {
     "name": "stdout",
     "output_type": "stream",
     "text": [
      "Vector(6, 8)\n"
     ]
    }
   ],
   "source": [
    "#QUES 10: Demonstrate operator overloading by creating a class Vector and overriding the add method to add two vectors.\n",
    "\n",
    "class Vector:\n",
    "    def __init__(self, x, y):\n",
    "        self.x = x\n",
    "        self.y = y\n",
    "\n",
    "    def __add__(self, other):\n",
    "        if not isinstance(other, Vector):\n",
    "            return NotImplemented\n",
    "        return Vector(self.x + other.x, self.y + other.y)\n",
    "\n",
    "    def __str__(self):\n",
    "        return f\"Vector({self.x}, {self.y})\"\n",
    "\n",
    "v1 = Vector(2, 3)\n",
    "v2 = Vector(4, 5)\n",
    "v3 = v1 + v2\n",
    "\n",
    "print(v3)\n",
    "     "
   ]
  },
  {
   "cell_type": "code",
   "execution_count": 60,
   "id": "736e0b87-2430-43cf-8439-90e050c18e70",
   "metadata": {},
   "outputs": [
    {
     "name": "stdout",
     "output_type": "stream",
     "text": [
      "Hello, my name is Alice and I am 30 years old.\n"
     ]
    }
   ],
   "source": [
    "#QUES 11: Create a class Person with attributes name and age. Add a method greet() that prints \"Hello, my name is {name} and I am {age} years old.\"\n",
    "\n",
    "class Person:\n",
    "    def __init__(self, name, age):\n",
    "        self.name = name\n",
    "        self.age = age\n",
    "\n",
    "    def greet(self):\n",
    "        print(f\"Hello, my name is {self.name} and I am {self.age} years old.\")\n",
    "\n",
    "p = Person(\"Alice\", 30)\n",
    "p.greet()"
   ]
  },
  {
   "cell_type": "code",
   "execution_count": 61,
   "id": "9a713850-29ac-4493-8201-6850dcccf408",
   "metadata": {},
   "outputs": [
    {
     "name": "stdout",
     "output_type": "stream",
     "text": [
      "John's average grade is: 86.25\n"
     ]
    }
   ],
   "source": [
    "#QUES 12: Implement a class Student with attributes name and grades. Create a method average_grade() to compute the average of the grades.\n",
    "\n",
    "class Student:\n",
    "    def __init__(self, name, grades):\n",
    "        self.name = name\n",
    "        self.grades = grades  # Expecting a list of numbers\n",
    "\n",
    "    def average_grade(self):\n",
    "        if not self.grades:\n",
    "            return 0  # Avoid division by zero\n",
    "        return sum(self.grades) / len(self.grades)\n",
    "\n",
    "s = Student(\"John\", [85, 90, 78, 92])\n",
    "print(f\"{s.name}'s average grade is: {s.average_grade():.2f}\")\n"
   ]
  },
  {
   "cell_type": "code",
   "execution_count": 62,
   "id": "3119696d-8bed-433b-9dbd-884a1179f3e7",
   "metadata": {},
   "outputs": [
    {
     "name": "stdout",
     "output_type": "stream",
     "text": [
      "Area of the rectangle: 50\n"
     ]
    }
   ],
   "source": [
    "#QUES 13: Create a class Rectangle with methods set_dimensions() to set the dimensions and area() to calculate the area.\n",
    "\n",
    "class Rectangle:\n",
    "    def __init__(self):\n",
    "        self.width = 0\n",
    "        self.height = 0\n",
    "\n",
    "    def set_dimensions(self, width, height):\n",
    "        self.width = width\n",
    "        self.height = height\n",
    "\n",
    "    def area(self):\n",
    "        return self.width * self.height\n",
    "\n",
    "rect = Rectangle()\n",
    "rect.set_dimensions(5, 10)\n",
    "print(f\"Area of the rectangle: {rect.area()}\")"
   ]
  },
  {
   "cell_type": "code",
   "execution_count": 63,
   "id": "d39aa50e-387a-4375-8b87-c1f3cd879096",
   "metadata": {},
   "outputs": [
    {
     "name": "stdout",
     "output_type": "stream",
     "text": [
      "Alice's salary: $800\n"
     ]
    }
   ],
   "source": [
    "#QUES 14: Create a class Employee with a method calculate_salary() that computes the salary based on hours worked and hourly rate. Create a derived class Manager that adds a bonus to the salary.\n",
    "\n",
    "class Employee:\n",
    "    def __init__(self, name, hours_worked, hourly_rate):\n",
    "        self.name = name\n",
    "        self.hours_worked = hours_worked\n",
    "        self.hourly_rate = hourly_rate\n",
    "\n",
    "    def calculate_salary(self):\n",
    "        return self.hours_worked * self.hourly_rate\n",
    "\n",
    "emp = Employee(\"Alice\", 40, 20)\n",
    "print(f\"{emp.name}'s salary: ${emp.calculate_salary()}\")"
   ]
  },
  {
   "cell_type": "code",
   "execution_count": 64,
   "id": "9899d2e4-6c6f-444d-9c7a-a7d6e19edb78",
   "metadata": {},
   "outputs": [
    {
     "name": "stdout",
     "output_type": "stream",
     "text": [
      "Bob's salary with bonus: $1700\n"
     ]
    }
   ],
   "source": [
    "class Manager(Employee):\n",
    "    def __init__(self, name, hours_worked, hourly_rate, bonus):\n",
    "        super().__init__(name, hours_worked, hourly_rate)\n",
    "        self.bonus = bonus\n",
    "\n",
    "    def calculate_salary(self):\n",
    "        base_salary = super().calculate_salary()\n",
    "        return base_salary + self.bonus\n",
    "\n",
    "mgr = Manager(\"Bob\", 40, 30, 500)\n",
    "print(f\"{mgr.name}'s salary with bonus: ${mgr.calculate_salary()}\")"
   ]
  },
  {
   "cell_type": "code",
   "execution_count": 65,
   "id": "10321824-08a9-49d0-808b-4ec3b6763fe4",
   "metadata": {},
   "outputs": [
    {
     "name": "stdout",
     "output_type": "stream",
     "text": [
      "Total price for Laptop: $2401.00\n"
     ]
    }
   ],
   "source": [
    "#QUES 15: Create a class Product with attributes name, price, and quantity. Implement a method total_price() that calculates the total price of the product.\n",
    "\n",
    "class Product:\n",
    "    def __init__(self, name, price, quantity):\n",
    "        self.name = name\n",
    "        self.price = price\n",
    "        self.quantity = quantity\n",
    "\n",
    "    def total_price(self):\n",
    "        return self.price * self.quantity\n",
    "\n",
    "product = Product(\"Laptop\", 1200.50, 2)\n",
    "print(f\"Total price for {product.name}: ${product.total_price():.2f}\")\n"
   ]
  },
  {
   "cell_type": "code",
   "execution_count": 66,
   "id": "622af234-8b7f-44f9-aad8-f67e8c6ae685",
   "metadata": {},
   "outputs": [
    {
     "name": "stdout",
     "output_type": "stream",
     "text": [
      "Cow sound: Moo\n",
      "Sheep sound: Baa\n"
     ]
    }
   ],
   "source": [
    "#QUES 16: Create a class Animal with an abstract method sound(). Create two derived classes Cow and Sheep that implement the sound() method.\n",
    "\n",
    "from abc import ABC, abstractmethod\n",
    "\n",
    "# Abstract base class\n",
    "class Animal(ABC):\n",
    "    @abstractmethod\n",
    "    def sound(self):\n",
    "        pass\n",
    "\n",
    "# Derived class Cow\n",
    "class Cow(Animal):\n",
    "    def sound(self):\n",
    "        return \"Moo\"\n",
    "\n",
    "# Derived class Sheep\n",
    "class Sheep(Animal):\n",
    "    def sound(self):\n",
    "        return \"Baa\"\n",
    "\n",
    "cow = Cow()\n",
    "sheep = Sheep()\n",
    "\n",
    "print(f\"Cow sound: {cow.sound()}\")\n",
    "print(f\"Sheep sound: {sheep.sound()}\")"
   ]
  },
  {
   "cell_type": "code",
   "execution_count": 67,
   "id": "bbdb0a43-264a-4181-856e-24e392535b10",
   "metadata": {},
   "outputs": [
    {
     "name": "stdout",
     "output_type": "stream",
     "text": [
      "'1984' by George Orwell, published in 1949\n"
     ]
    }
   ],
   "source": [
    "#QUES 17: Create a class Book with attributes title, author, and year_published. Add a method get_book_info() that returns a formatted string with the book's details.\n",
    "\n",
    "class Book:\n",
    "    def __init__(self, title, author, year_published):\n",
    "        self.title = title\n",
    "        self.author = author\n",
    "        self.year_published = year_published\n",
    "\n",
    "    def get_book_info(self):\n",
    "        return f\"'{self.title}' by {self.author}, published in {self.year_published}\"\n",
    "\n",
    "book = Book(\"1984\", \"George Orwell\", 1949)\n",
    "print(book.get_book_info())"
   ]
  },
  {
   "cell_type": "code",
   "execution_count": 68,
   "id": "e8f6bbd3-17ab-4bb2-8457-76331285724b",
   "metadata": {},
   "outputs": [
    {
     "name": "stdout",
     "output_type": "stream",
     "text": [
      "Address: 123 Luxury Lane\n",
      "Price: $2500000\n",
      "Number of rooms: 12\n"
     ]
    }
   ],
   "source": [
    "#QUES 18: Create a class House with attributes address and price. Create a derived class Mansion that adds an attribute number_of_rooms.\n",
    "\n",
    "# Base class\n",
    "class House:\n",
    "    def __init__(self, address, price):\n",
    "        self.address = address\n",
    "        self.price = price\n",
    "\n",
    "# Derived class\n",
    "class Mansion(House):\n",
    "    def __init__(self, address, price, number_of_rooms):\n",
    "        super().__init__(address, price)\n",
    "        self.number_of_rooms = number_of_rooms\n",
    "\n",
    "mansion = Mansion(\"123 Luxury Lane\", 2500000, 12)\n",
    "print(f\"Address: {mansion.address}\")\n",
    "print(f\"Price: ${mansion.price}\")\n",
    "print(f\"Number of rooms: {mansion.number_of_rooms}\")"
   ]
  },
  {
   "cell_type": "code",
   "execution_count": null,
   "id": "25d58ddd-571c-41e6-b321-29a6dd20b117",
   "metadata": {},
   "outputs": [],
   "source": []
  },
  {
   "cell_type": "code",
   "execution_count": null,
   "id": "d22170fa-a1f7-4a14-b5a4-02e00faa2727",
   "metadata": {},
   "outputs": [],
   "source": []
  },
  {
   "cell_type": "code",
   "execution_count": null,
   "id": "b54f58d0-3ea9-4395-9f90-be63ffcc6cef",
   "metadata": {},
   "outputs": [],
   "source": []
  },
  {
   "cell_type": "code",
   "execution_count": null,
   "id": "ad8d68b2-4ad0-4879-bc7a-b77178dee854",
   "metadata": {},
   "outputs": [],
   "source": []
  },
  {
   "cell_type": "code",
   "execution_count": null,
   "id": "4e6059b4-dcb3-45f4-8710-8345d0028774",
   "metadata": {},
   "outputs": [],
   "source": []
  },
  {
   "cell_type": "code",
   "execution_count": null,
   "id": "218045a2-e06c-4d46-84c1-002bb438e16f",
   "metadata": {},
   "outputs": [],
   "source": []
  },
  {
   "cell_type": "code",
   "execution_count": null,
   "id": "aa23f0d2-f028-4666-a5fe-637f88254ebd",
   "metadata": {},
   "outputs": [],
   "source": []
  }
 ],
 "metadata": {
  "kernelspec": {
   "display_name": "Python [conda env:base] *",
   "language": "python",
   "name": "conda-base-py"
  },
  "language_info": {
   "codemirror_mode": {
    "name": "ipython",
    "version": 3
   },
   "file_extension": ".py",
   "mimetype": "text/x-python",
   "name": "python",
   "nbconvert_exporter": "python",
   "pygments_lexer": "ipython3",
   "version": "3.12.7"
  }
 },
 "nbformat": 4,
 "nbformat_minor": 5
}
